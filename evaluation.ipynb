{
 "cells": [
  {
   "cell_type": "code",
   "execution_count": 9,
   "metadata": {},
   "outputs": [],
   "source": [
    "import pandas as pd\n",
    "import numpy as np\n",
    "import pm4py\n",
    "from pm4py.objects.log.importer.xes import importer as xes_importer\n",
    "import re\n",
    "\n",
    "import warnings\n",
    "warnings.filterwarnings(\"ignore\")"
   ]
  },
  {
   "cell_type": "markdown",
   "metadata": {},
   "source": [
    "### Purchase Process Case Study"
   ]
  },
  {
   "cell_type": "code",
   "execution_count": 10,
   "metadata": {},
   "outputs": [],
   "source": [
    "def compute_start(log_path, log_alpha_path):   \n",
    "\n",
    "    log = xes_importer.apply(log_path)\n",
    "    log_df = pm4py.convert_to_dataframe(log)\n",
    "    log_df.sort_values(by='time:timestamp', inplace=True)\n",
    "    log_df = log_df[log_df['lifecycle:transition'] != 'complete']\n",
    "    log_df.index = range(len(log_df))\n",
    "\n",
    "    log_alpha = pd.read_csv(log_alpha_path)  \n",
    "    log_alpha.sort_values(by='time:timestamp', inplace = True)\n",
    "    log_alpha.index = range(len(log_alpha))\n",
    "    log_alpha['start:timestamp'] = log_alpha['start:timestamp'].apply(lambda x: re.sub('\\.[0-9]+', '', str(x)))\n",
    "    log_alpha['start:timestamp'] = pd.to_datetime(log_alpha['start:timestamp'])\n",
    "\n",
    "    time_delta = (log_df['time:timestamp'] - log_alpha['start:timestamp']).apply(lambda x: x.total_seconds()).abs().mean()\n",
    "\n",
    "    activities = list(log_df['concept:name'].unique())\n",
    "    delta_starts_median = {a:[] for a in activities}\n",
    "    delta_starts_mean = {a:[] for a in activities}\n",
    "    for a in activities:\n",
    "        delta_starts_median[a] = np.median([abs(a_i-b_i) for a_i,b_i in zip(log_df.loc[log_df['concept:name']==activities[1],'time:timestamp'], log_alpha.loc[log_alpha['concept:name']==activities[1],'start:timestamp'])])\n",
    "        delta_starts_mean[a] = np.mean([abs(a_i-b_i) for a_i,b_i in zip(log_df.loc[log_df['concept:name']==activities[1],'time:timestamp'], log_alpha.loc[log_alpha['concept:name']==activities[1],'start:timestamp'])])\n",
    "\n",
    "    return time_delta, delta_starts_mean, delta_starts_median"
   ]
  },
  {
   "cell_type": "code",
   "execution_count": 11,
   "metadata": {},
   "outputs": [
    {
     "name": "stdout",
     "output_type": "stream",
     "text": [
      "Purchase Process Case Study - bisection\n"
     ]
    },
    {
     "name": "stderr",
     "output_type": "stream",
     "text": [
      "parsing log, completed traces :: 100%|██████████| 608/608 [00:03<00:00, 201.82it/s]\n"
     ]
    },
    {
     "name": "stdout",
     "output_type": "stream",
     "text": [
      "secs: 11165.660050444129\n",
      "\n",
      "mins: 186.09433417406882\n",
      "\n",
      "hours: 3.10157223623448\n"
     ]
    }
   ],
   "source": [
    "log_path = 'data/Purchase_Process_Case_Study/purchasing_example.xes'\n",
    "log_alpha_path = 'results/Purchase_Process_Case_Study/bisection/log_alpha.csv'\n",
    "\n",
    "print('Purchase Process Case Study - bisection')\n",
    "time_delta, delta_starts_mean, delta_starts_median = compute_start(log_path, log_alpha_path)\n",
    "print('secs:',time_delta)\n",
    "print(\"\\nmins:\", time_delta/60)\n",
    "print(\"\\nhours:\", time_delta/(60*60))"
   ]
  },
  {
   "cell_type": "code",
   "execution_count": 12,
   "metadata": {},
   "outputs": [
    {
     "name": "stdout",
     "output_type": "stream",
     "text": [
      "Purchase Process Case Study - single\n"
     ]
    },
    {
     "name": "stderr",
     "output_type": "stream",
     "text": [
      "parsing log, completed traces :: 100%|██████████| 608/608 [00:02<00:00, 234.13it/s]\n"
     ]
    },
    {
     "name": "stdout",
     "output_type": "stream",
     "text": [
      "secs: 17421.24991775414\n",
      "\n",
      "mins: 290.3541652959023\n",
      "\n",
      "hours: 4.8392360882650385\n"
     ]
    }
   ],
   "source": [
    "log_path = 'data/Purchase_Process_Case_Study/purchasing_example.xes'\n",
    "log_alpha_path = 'results/Purchase_Process_Case_Study/single/log_alpha_one.csv'\n",
    "\n",
    "print('Purchase Process Case Study - single')\n",
    "time_delta, delta_starts_mean, delta_starts_median = compute_start(log_path, log_alpha_path)\n",
    "print('secs:',time_delta)\n",
    "print(\"\\nmins:\", time_delta/60)\n",
    "print(\"\\nhours:\", time_delta/(60*60))"
   ]
  },
  {
   "cell_type": "code",
   "execution_count": 13,
   "metadata": {},
   "outputs": [
    {
     "name": "stdout",
     "output_type": "stream",
     "text": [
      "Purchase Process Case Study - single alpha=1\n"
     ]
    },
    {
     "name": "stderr",
     "output_type": "stream",
     "text": [
      "parsing log, completed traces :: 100%|██████████| 608/608 [00:02<00:00, 233.33it/s]\n"
     ]
    },
    {
     "name": "stdout",
     "output_type": "stream",
     "text": [
      "secs: 38941.25671674526\n",
      "\n",
      "mins: 649.0209452790876\n",
      "\n",
      "hours: 10.817015754651461\n"
     ]
    }
   ],
   "source": [
    "log_path = 'data/Purchase_Process_Case_Study/purchasing_example.xes'\n",
    "log_alpha_path = 'results/Purchase_Process_Case_Study/alpha_1/log_alpha.csv'\n",
    "\n",
    "print('Purchase Process Case Study - single alpha=1')\n",
    "time_delta, delta_starts_mean, delta_starts_median = compute_start(log_path, log_alpha_path)\n",
    "print('secs:',time_delta)\n",
    "print(\"\\nmins:\", time_delta/60)\n",
    "print(\"\\nhours:\", time_delta/(60*60))"
   ]
  },
  {
   "cell_type": "markdown",
   "metadata": {},
   "source": [
    "### Purchase Process Case Study 2"
   ]
  },
  {
   "cell_type": "code",
   "execution_count": 14,
   "metadata": {},
   "outputs": [],
   "source": [
    "def compute_start_log(log_path, log_alpha_path):   \n",
    "\n",
    "    log = xes_importer.apply(log_path)\n",
    "    log_df = pm4py.convert_to_dataframe(log)\n",
    "    log_df.sort_values(by='time:timestamp', inplace=True)\n",
    "    log_df = log_df[log_df['lifecycle:transition'] != 'complete']\n",
    "    log_df.index = range(len(log_df))\n",
    "\n",
    "    log_alpha = xes_importer.apply(log_alpha_path)\n",
    "    log_alpha = pm4py.convert_to_dataframe(log_alpha)\n",
    "    log_alpha = log_alpha.sort_values(by='time:timestamp')\n",
    "    log_alpha.index = range(len(log_alpha))\n",
    "    log_alpha = log_alpha.loc[:,['org:resource','time:timestamp','start:timestamp','concept:name']].sort_values(by='time:timestamp')\n",
    "    log_alpha['start:timestamp'] = pd.to_datetime(log_alpha['start:timestamp'])\n",
    "\n",
    "    time_delta = (log_df['time:timestamp'] - log_alpha['start:timestamp']).apply(lambda x: x.total_seconds()).abs().mean()\n",
    "\n",
    "    activities = list(log_df['concept:name'].unique())\n",
    "    delta_starts_median = {a:[] for a in activities}\n",
    "    delta_starts_mean = {a:[] for a in activities}\n",
    "    for a in activities:\n",
    "        delta_starts_median[a] = np.median(abs(log_df.loc[log_df['concept:name']==a,'time:timestamp']-log_alpha.loc[log_alpha['concept:name']==a,'start:timestamp']))\n",
    "        delta_starts_mean[a] = np.mean(abs(log_df.loc[log_df['concept:name']==a,'time:timestamp']-log_alpha.loc[log_alpha['concept:name']==a,'start:timestamp']))\n",
    "\n",
    "    return time_delta, delta_starts_mean, delta_starts_median"
   ]
  },
  {
   "cell_type": "code",
   "execution_count": 15,
   "metadata": {},
   "outputs": [
    {
     "name": "stdout",
     "output_type": "stream",
     "text": [
      "Purchase Process Case Study 2 - alpha_log_WT_FIXED_greedy\n"
     ]
    },
    {
     "name": "stderr",
     "output_type": "stream",
     "text": [
      "parsing log, completed traces :: 100%|██████████| 608/608 [00:02<00:00, 234.36it/s]\n",
      "parsing log, completed traces :: 100%|██████████| 608/608 [00:01<00:00, 308.83it/s]\n"
     ]
    },
    {
     "name": "stdout",
     "output_type": "stream",
     "text": [
      "secs: 44635.868625945826\n",
      "\n",
      "mins: 743.9311437657637\n",
      "\n",
      "hours: 12.398852396096062\n"
     ]
    }
   ],
   "source": [
    "log_path = 'data/Purchase_Process_Case_Study/purchasing_example.xes'\n",
    "log_alpha_path = 'data/Purchase_Process_Case_Study_2/alpha_log_WT_FIXED_greedy.xes'\n",
    "\n",
    "print('Purchase Process Case Study 2 - alpha_log_WT_FIXED_greedy')\n",
    "time_delta, delta_starts_mean, delta_starts_median = compute_start_log(log_path, log_alpha_path)\n",
    "print('secs:',time_delta)\n",
    "print(\"\\nmins:\", time_delta/60)\n",
    "print(\"\\nhours:\", time_delta/(60*60))"
   ]
  },
  {
   "cell_type": "code",
   "execution_count": 16,
   "metadata": {},
   "outputs": [
    {
     "name": "stdout",
     "output_type": "stream",
     "text": [
      "Purchase Process Case Study 2 - alpha_log_WT_FIXED_MOGAII_001\n"
     ]
    },
    {
     "name": "stderr",
     "output_type": "stream",
     "text": [
      "parsing log, completed traces :: 100%|██████████| 608/608 [00:02<00:00, 232.12it/s]\n",
      "parsing log, completed traces :: 100%|██████████| 608/608 [00:01<00:00, 409.52it/s]\n"
     ]
    },
    {
     "name": "stdout",
     "output_type": "stream",
     "text": [
      "secs: 35091.76743941222\n",
      "\n",
      "mins: 584.8627906568704\n",
      "\n",
      "hours: 9.747713177614505\n"
     ]
    }
   ],
   "source": [
    "log_path = 'data/Purchase_Process_Case_Study/purchasing_example.xes'\n",
    "log_alpha_path = 'data/Purchase_Process_Case_Study_2/alpha_log_WT_FIXED_MOGAII_001.xes'\n",
    "\n",
    "print('Purchase Process Case Study 2 - alpha_log_WT_FIXED_MOGAII_001')\n",
    "time_delta, delta_starts_mean, delta_starts_median = compute_start_log(log_path, log_alpha_path)\n",
    "print('secs:',time_delta)\n",
    "print(\"\\nmins:\", time_delta/60)\n",
    "print(\"\\nhours:\", time_delta/(60*60))"
   ]
  },
  {
   "cell_type": "code",
   "execution_count": 17,
   "metadata": {},
   "outputs": [
    {
     "name": "stdout",
     "output_type": "stream",
     "text": [
      "Purchase Process Case Study 2 - alpha_log_WT_FIXED_MOGAII_005\n"
     ]
    },
    {
     "name": "stderr",
     "output_type": "stream",
     "text": [
      "parsing log, completed traces :: 100%|██████████| 608/608 [00:02<00:00, 233.01it/s]\n",
      "parsing log, completed traces :: 100%|██████████| 608/608 [00:01<00:00, 355.70it/s]\n"
     ]
    },
    {
     "name": "stdout",
     "output_type": "stream",
     "text": [
      "secs: 36397.63406075227\n",
      "\n",
      "mins: 606.6272343458712\n",
      "\n",
      "hours: 10.11045390576452\n"
     ]
    }
   ],
   "source": [
    "log_path = 'data/Purchase_Process_Case_Study/purchasing_example.xes'\n",
    "log_alpha_path = 'data/Purchase_Process_Case_Study_2/alpha_log_WT_FIXED_MOGAII_005.xes'\n",
    "\n",
    "print('Purchase Process Case Study 2 - alpha_log_WT_FIXED_MOGAII_005')\n",
    "time_delta, delta_starts_mean, delta_starts_median = compute_start_log(log_path, log_alpha_path)\n",
    "print('secs:',time_delta)\n",
    "print(\"\\nmins:\", time_delta/60)\n",
    "print(\"\\nhours:\", time_delta/(60*60))"
   ]
  },
  {
   "cell_type": "code",
   "execution_count": 18,
   "metadata": {},
   "outputs": [
    {
     "name": "stdout",
     "output_type": "stream",
     "text": [
      "Purchase Process Case Study 2 - alpha_log_WT_FIXED_NSGAII_001\n"
     ]
    },
    {
     "name": "stderr",
     "output_type": "stream",
     "text": [
      "parsing log, completed traces :: 100%|██████████| 608/608 [00:02<00:00, 226.85it/s]\n",
      "parsing log, completed traces :: 100%|██████████| 608/608 [00:01<00:00, 347.17it/s]\n"
     ]
    },
    {
     "name": "stdout",
     "output_type": "stream",
     "text": [
      "secs: 36379.23181927843\n",
      "\n",
      "mins: 606.3205303213072\n",
      "\n",
      "hours: 10.105342172021786\n"
     ]
    }
   ],
   "source": [
    "log_path = 'data/Purchase_Process_Case_Study/purchasing_example.xes'\n",
    "log_alpha_path = 'data/Purchase_Process_Case_Study_2/alpha_log_WT_FIXED_NSGAII_001.xes'\n",
    "\n",
    "print('Purchase Process Case Study 2 - alpha_log_WT_FIXED_NSGAII_001')\n",
    "time_delta, delta_starts_mean, delta_starts_median = compute_start_log(log_path, log_alpha_path)\n",
    "print('secs:',time_delta)\n",
    "print(\"\\nmins:\", time_delta/60)\n",
    "print(\"\\nhours:\", time_delta/(60*60))"
   ]
  },
  {
   "cell_type": "code",
   "execution_count": 19,
   "metadata": {},
   "outputs": [
    {
     "name": "stdout",
     "output_type": "stream",
     "text": [
      "Purchase Process Case Study 2 - alpha_log_WT_FIXED_NSGAII_005\n"
     ]
    },
    {
     "name": "stderr",
     "output_type": "stream",
     "text": [
      "parsing log, completed traces :: 100%|██████████| 608/608 [00:02<00:00, 234.15it/s]\n",
      "parsing log, completed traces :: 100%|██████████| 608/608 [00:01<00:00, 369.15it/s]\n"
     ]
    },
    {
     "name": "stdout",
     "output_type": "stream",
     "text": [
      "secs: 36390.078298059\n",
      "\n",
      "mins: 606.5013049676501\n",
      "\n",
      "hours: 10.108355082794168\n"
     ]
    }
   ],
   "source": [
    "log_path = 'data/Purchase_Process_Case_Study/purchasing_example.xes'\n",
    "log_alpha_path = 'data/Purchase_Process_Case_Study_2/alpha_log_WT_FIXED_NSGAII_005.xes'\n",
    "\n",
    "print('Purchase Process Case Study 2 - alpha_log_WT_FIXED_NSGAII_005')\n",
    "time_delta, delta_starts_mean, delta_starts_median = compute_start_log(log_path, log_alpha_path)\n",
    "print('secs:',time_delta)\n",
    "print(\"\\nmins:\", time_delta/60)\n",
    "print(\"\\nhours:\", time_delta/(60*60))"
   ]
  },
  {
   "cell_type": "markdown",
   "metadata": {},
   "source": [
    "### Production Case Study"
   ]
  },
  {
   "cell_type": "code",
   "execution_count": 20,
   "metadata": {},
   "outputs": [
    {
     "name": "stdout",
     "output_type": "stream",
     "text": [
      "Production Case Study - bisection\n"
     ]
    },
    {
     "name": "stderr",
     "output_type": "stream",
     "text": [
      "parsing log, completed traces :: 100%|██████████| 225/225 [00:01<00:00, 122.26it/s]\n"
     ]
    },
    {
     "name": "stdout",
     "output_type": "stream",
     "text": [
      "secs: 12148.596002422773\n",
      "\n",
      "mins: 202.47660004037957\n",
      "\n",
      "hours: 3.3746100006729924\n"
     ]
    }
   ],
   "source": [
    "log_path = 'data/Production_Case_Study/production.xes'\n",
    "log_alpha_path = 'results/Production_Case_Study/bisection/log_alpha.csv'\n",
    "\n",
    "print('Production Case Study - bisection')\n",
    "time_delta, delta_starts_mean, delta_starts_median = compute_start(log_path, log_alpha_path)\n",
    "print('secs:',time_delta)\n",
    "print(\"\\nmins:\", time_delta/60)\n",
    "print(\"\\nhours:\", time_delta/(60*60))"
   ]
  },
  {
   "cell_type": "code",
   "execution_count": 21,
   "metadata": {},
   "outputs": [
    {
     "name": "stdout",
     "output_type": "stream",
     "text": [
      "Production Case Study - single\n"
     ]
    },
    {
     "name": "stderr",
     "output_type": "stream",
     "text": [
      "parsing log, completed traces :: 100%|██████████| 225/225 [00:01<00:00, 112.54it/s]\n"
     ]
    },
    {
     "name": "stdout",
     "output_type": "stream",
     "text": [
      "secs: 20478.648899656775\n",
      "\n",
      "mins: 341.3108149942796\n",
      "\n",
      "hours: 5.688513583237993\n"
     ]
    }
   ],
   "source": [
    "log_path = 'data/Production_Case_Study/production.xes'\n",
    "log_alpha_path = 'results/Production_Case_Study/single/log_alpha_one.csv'\n",
    "\n",
    "print('Production Case Study - single')\n",
    "time_delta, delta_starts_mean, delta_starts_median = compute_start(log_path, log_alpha_path)\n",
    "print('secs:',time_delta)\n",
    "print(\"\\nmins:\", time_delta/60)\n",
    "print(\"\\nhours:\", time_delta/(60*60))"
   ]
  },
  {
   "cell_type": "code",
   "execution_count": 22,
   "metadata": {},
   "outputs": [
    {
     "name": "stdout",
     "output_type": "stream",
     "text": [
      "Production Case Study - single shuffle\n"
     ]
    },
    {
     "name": "stderr",
     "output_type": "stream",
     "text": [
      "parsing log, completed traces :: 100%|██████████| 225/225 [00:01<00:00, 137.38it/s]\n"
     ]
    },
    {
     "name": "stdout",
     "output_type": "stream",
     "text": [
      "secs: 22895.34201494044\n",
      "\n",
      "mins: 381.5890335823407\n",
      "\n",
      "hours: 6.3598172263723445\n"
     ]
    }
   ],
   "source": [
    "log_path = 'data/Production_Case_Study/production.xes'\n",
    "log_alpha_path = 'results/Production_Case_Study/single/log_alpha_one_shuffle.csv'\n",
    "\n",
    "print('Production Case Study - single shuffle')\n",
    "time_delta, delta_starts_mean, delta_starts_median = compute_start(log_path, log_alpha_path)\n",
    "print('secs:',time_delta)\n",
    "print(\"\\nmins:\", time_delta/60)\n",
    "print(\"\\nhours:\", time_delta/(60*60))"
   ]
  },
  {
   "cell_type": "code",
   "execution_count": 23,
   "metadata": {},
   "outputs": [
    {
     "name": "stdout",
     "output_type": "stream",
     "text": [
      "Production Case Study - single alpha=1\n"
     ]
    },
    {
     "name": "stderr",
     "output_type": "stream",
     "text": [
      "parsing log, completed traces :: 100%|██████████| 225/225 [00:01<00:00, 132.48it/s]\n"
     ]
    },
    {
     "name": "stdout",
     "output_type": "stream",
     "text": [
      "secs: 44487.70442156269\n",
      "\n",
      "mins: 741.4617403593782\n",
      "\n",
      "hours: 12.357695672656302\n"
     ]
    }
   ],
   "source": [
    "log_path = 'data/Production_Case_Study/production.xes'\n",
    "log_alpha_path = 'results/Production_Case_Study/alpha_1/log_alpha.csv'\n",
    "\n",
    "print('Production Case Study - single alpha=1')\n",
    "time_delta, delta_starts_mean, delta_starts_median = compute_start(log_path, log_alpha_path)\n",
    "print('secs:',time_delta)\n",
    "print(\"\\nmins:\", time_delta/60)\n",
    "print(\"\\nhours:\", time_delta/(60*60))"
   ]
  }
 ],
 "metadata": {
  "kernelspec": {
   "display_name": "Python 3",
   "language": "python",
   "name": "python3"
  },
  "language_info": {
   "codemirror_mode": {
    "name": "ipython",
    "version": 3
   },
   "file_extension": ".py",
   "mimetype": "text/x-python",
   "name": "python",
   "nbconvert_exporter": "python",
   "pygments_lexer": "ipython3",
   "version": "3.10.13"
  }
 },
 "nbformat": 4,
 "nbformat_minor": 2
}
