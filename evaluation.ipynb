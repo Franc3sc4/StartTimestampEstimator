{
 "cells": [
  {
   "cell_type": "code",
   "execution_count": 1,
   "metadata": {},
   "outputs": [
    {
     "name": "stderr",
     "output_type": "stream",
     "text": [
      "C:\\Users\\vinci\\AppData\\Local\\Packages\\PythonSoftwareFoundation.Python.3.10_qbz5n2kfra8p0\\LocalCache\\local-packages\\Python310\\site-packages\\tqdm\\auto.py:22: TqdmWarning: IProgress not found. Please update jupyter and ipywidgets. See https://ipywidgets.readthedocs.io/en/stable/user_install.html\n",
      "  from .autonotebook import tqdm as notebook_tqdm\n",
      "parsing log, completed traces :: 100%|██████████| 608/608 [00:00<00:00, 664.39it/s]\n"
     ]
    }
   ],
   "source": [
    "import pandas as pd\n",
    "import pm4py\n",
    "from pm4py.objects.log.importer.xes import importer as xes_importer\n",
    "\n",
    "log_path = 'data/purchasing_example.xes'\n",
    "log_alpha_path = 'results/bisection/log_alpha.csv'\n",
    "\n",
    "log = xes_importer.apply(log_path)\n",
    "log_df = pm4py.convert_to_dataframe(log)\n",
    "\n",
    "log_alpha = pd.read_csv(log_alpha_path)\n",
    "# log = pm4py.filter_event_attribute_values(log, 'lifecycle:transition', ['complete'], level=\"event\", retain=True)"
   ]
  },
  {
   "cell_type": "code",
   "execution_count": 2,
   "metadata": {},
   "outputs": [
    {
     "data": {
      "text/html": [
       "<div>\n",
       "<style scoped>\n",
       "    .dataframe tbody tr th:only-of-type {\n",
       "        vertical-align: middle;\n",
       "    }\n",
       "\n",
       "    .dataframe tbody tr th {\n",
       "        vertical-align: top;\n",
       "    }\n",
       "\n",
       "    .dataframe thead th {\n",
       "        text-align: right;\n",
       "    }\n",
       "</style>\n",
       "<table border=\"1\" class=\"dataframe\">\n",
       "  <thead>\n",
       "    <tr style=\"text-align: right;\">\n",
       "      <th></th>\n",
       "      <th>Resource</th>\n",
       "      <th>Activity</th>\n",
       "      <th>org:resource</th>\n",
       "      <th>concept:name</th>\n",
       "      <th>lifecycle:transition</th>\n",
       "      <th>time:timestamp</th>\n",
       "      <th>start:timestamp</th>\n",
       "      <th>case:creator</th>\n",
       "      <th>case:variant-index</th>\n",
       "      <th>case:variant</th>\n",
       "      <th>case:concept:name</th>\n",
       "    </tr>\n",
       "  </thead>\n",
       "  <tbody>\n",
       "    <tr>\n",
       "      <th>0</th>\n",
       "      <td>Kim Passa</td>\n",
       "      <td>Create Purchase Requisition</td>\n",
       "      <td>Kim Passa</td>\n",
       "      <td>Create Purchase Requisition</td>\n",
       "      <td>complete</td>\n",
       "      <td>2011-01-01 06:37:00+01:00</td>\n",
       "      <td>2011-01-01 06:37:00+01:00</td>\n",
       "      <td>Fluxicon Disco</td>\n",
       "      <td>2</td>\n",
       "      <td>Variant 2</td>\n",
       "      <td>1</td>\n",
       "    </tr>\n",
       "    <tr>\n",
       "      <th>1</th>\n",
       "      <td>Kim Passa</td>\n",
       "      <td>Create Request for Quotation</td>\n",
       "      <td>Kim Passa</td>\n",
       "      <td>Create Request for Quotation</td>\n",
       "      <td>complete</td>\n",
       "      <td>2011-01-01 11:45:00+01:00</td>\n",
       "      <td>2011-01-01 09:42:14.062500+01:00</td>\n",
       "      <td>Fluxicon Disco</td>\n",
       "      <td>2</td>\n",
       "      <td>Variant 2</td>\n",
       "      <td>1</td>\n",
       "    </tr>\n",
       "    <tr>\n",
       "      <th>2</th>\n",
       "      <td>Karel de Groot</td>\n",
       "      <td>Analyze Request for Quotation</td>\n",
       "      <td>Karel de Groot</td>\n",
       "      <td>Analyze Request for Quotation</td>\n",
       "      <td>complete</td>\n",
       "      <td>2011-01-01 12:55:00+01:00</td>\n",
       "      <td>2011-01-01 12:55:00+01:00</td>\n",
       "      <td>Fluxicon Disco</td>\n",
       "      <td>2</td>\n",
       "      <td>Variant 2</td>\n",
       "      <td>1</td>\n",
       "    </tr>\n",
       "    <tr>\n",
       "      <th>3</th>\n",
       "      <td>Karel de Groot</td>\n",
       "      <td>Send Request for Quotation to Supplier</td>\n",
       "      <td>Karel de Groot</td>\n",
       "      <td>Send Request for Quotation to Supplier</td>\n",
       "      <td>complete</td>\n",
       "      <td>2011-01-01 18:09:00+01:00</td>\n",
       "      <td>2011-01-01 17:53:28.784180+01:00</td>\n",
       "      <td>Fluxicon Disco</td>\n",
       "      <td>2</td>\n",
       "      <td>Variant 2</td>\n",
       "      <td>1</td>\n",
       "    </tr>\n",
       "    <tr>\n",
       "      <th>4</th>\n",
       "      <td>Magdalena Predutta</td>\n",
       "      <td>Create Quotation comparison Map</td>\n",
       "      <td>Magdalena Predutta</td>\n",
       "      <td>Create Quotation comparison Map</td>\n",
       "      <td>complete</td>\n",
       "      <td>2011-01-01 22:03:00+01:00</td>\n",
       "      <td>2011-01-01 21:38:05.507812+01:00</td>\n",
       "      <td>Fluxicon Disco</td>\n",
       "      <td>2</td>\n",
       "      <td>Variant 2</td>\n",
       "      <td>1</td>\n",
       "    </tr>\n",
       "    <tr>\n",
       "      <th>...</th>\n",
       "      <td>...</td>\n",
       "      <td>...</td>\n",
       "      <td>...</td>\n",
       "      <td>...</td>\n",
       "      <td>...</td>\n",
       "      <td>...</td>\n",
       "      <td>...</td>\n",
       "      <td>...</td>\n",
       "      <td>...</td>\n",
       "      <td>...</td>\n",
       "      <td>...</td>\n",
       "    </tr>\n",
       "    <tr>\n",
       "      <th>9114</th>\n",
       "      <td>Heinz Gutschmidt</td>\n",
       "      <td>Analyze Purchase Requisition</td>\n",
       "      <td>Heinz Gutschmidt</td>\n",
       "      <td>Analyze Purchase Requisition</td>\n",
       "      <td>complete</td>\n",
       "      <td>2011-10-13 02:02:00+02:00</td>\n",
       "      <td>2011-10-13 02:02:00+02:00</td>\n",
       "      <td>Fluxicon Disco</td>\n",
       "      <td>4</td>\n",
       "      <td>Variant 4</td>\n",
       "      <td>1941</td>\n",
       "    </tr>\n",
       "    <tr>\n",
       "      <th>9115</th>\n",
       "      <td>Francis Odell</td>\n",
       "      <td>Create Request for Quotation</td>\n",
       "      <td>Francis Odell</td>\n",
       "      <td>Create Request for Quotation</td>\n",
       "      <td>complete</td>\n",
       "      <td>2011-10-13 02:09:00+02:00</td>\n",
       "      <td>2011-10-13 02:09:00+02:00</td>\n",
       "      <td>Fluxicon Disco</td>\n",
       "      <td>4</td>\n",
       "      <td>Variant 4</td>\n",
       "      <td>1941</td>\n",
       "    </tr>\n",
       "    <tr>\n",
       "      <th>9116</th>\n",
       "      <td>Karel de Groot</td>\n",
       "      <td>Analyze Request for Quotation</td>\n",
       "      <td>Karel de Groot</td>\n",
       "      <td>Analyze Request for Quotation</td>\n",
       "      <td>complete</td>\n",
       "      <td>2011-10-14 21:18:00+02:00</td>\n",
       "      <td>2011-10-14 21:18:00+02:00</td>\n",
       "      <td>Fluxicon Disco</td>\n",
       "      <td>4</td>\n",
       "      <td>Variant 4</td>\n",
       "      <td>1941</td>\n",
       "    </tr>\n",
       "    <tr>\n",
       "      <th>9117</th>\n",
       "      <td>Tesca Lobes</td>\n",
       "      <td>Create Purchase Requisition</td>\n",
       "      <td>Tesca Lobes</td>\n",
       "      <td>Create Purchase Requisition</td>\n",
       "      <td>complete</td>\n",
       "      <td>2011-10-13 14:21:00+02:00</td>\n",
       "      <td>2011-10-13 14:21:00+02:00</td>\n",
       "      <td>Fluxicon Disco</td>\n",
       "      <td>3</td>\n",
       "      <td>Variant 3</td>\n",
       "      <td>1949</td>\n",
       "    </tr>\n",
       "    <tr>\n",
       "      <th>9118</th>\n",
       "      <td>Francis Odell</td>\n",
       "      <td>Analyze Purchase Requisition</td>\n",
       "      <td>Francis Odell</td>\n",
       "      <td>Analyze Purchase Requisition</td>\n",
       "      <td>complete</td>\n",
       "      <td>2011-10-14 00:09:00+02:00</td>\n",
       "      <td>2011-10-14 00:09:00+02:00</td>\n",
       "      <td>Fluxicon Disco</td>\n",
       "      <td>3</td>\n",
       "      <td>Variant 3</td>\n",
       "      <td>1949</td>\n",
       "    </tr>\n",
       "  </tbody>\n",
       "</table>\n",
       "<p>9119 rows × 11 columns</p>\n",
       "</div>"
      ],
      "text/plain": [
       "                Resource                                Activity  \\\n",
       "0              Kim Passa             Create Purchase Requisition   \n",
       "1              Kim Passa            Create Request for Quotation   \n",
       "2         Karel de Groot           Analyze Request for Quotation   \n",
       "3         Karel de Groot  Send Request for Quotation to Supplier   \n",
       "4     Magdalena Predutta         Create Quotation comparison Map   \n",
       "...                  ...                                     ...   \n",
       "9114    Heinz Gutschmidt            Analyze Purchase Requisition   \n",
       "9115       Francis Odell            Create Request for Quotation   \n",
       "9116      Karel de Groot           Analyze Request for Quotation   \n",
       "9117         Tesca Lobes             Create Purchase Requisition   \n",
       "9118       Francis Odell            Analyze Purchase Requisition   \n",
       "\n",
       "            org:resource                            concept:name  \\\n",
       "0              Kim Passa             Create Purchase Requisition   \n",
       "1              Kim Passa            Create Request for Quotation   \n",
       "2         Karel de Groot           Analyze Request for Quotation   \n",
       "3         Karel de Groot  Send Request for Quotation to Supplier   \n",
       "4     Magdalena Predutta         Create Quotation comparison Map   \n",
       "...                  ...                                     ...   \n",
       "9114    Heinz Gutschmidt            Analyze Purchase Requisition   \n",
       "9115       Francis Odell            Create Request for Quotation   \n",
       "9116      Karel de Groot           Analyze Request for Quotation   \n",
       "9117         Tesca Lobes             Create Purchase Requisition   \n",
       "9118       Francis Odell            Analyze Purchase Requisition   \n",
       "\n",
       "     lifecycle:transition             time:timestamp  \\\n",
       "0                complete  2011-01-01 06:37:00+01:00   \n",
       "1                complete  2011-01-01 11:45:00+01:00   \n",
       "2                complete  2011-01-01 12:55:00+01:00   \n",
       "3                complete  2011-01-01 18:09:00+01:00   \n",
       "4                complete  2011-01-01 22:03:00+01:00   \n",
       "...                   ...                        ...   \n",
       "9114             complete  2011-10-13 02:02:00+02:00   \n",
       "9115             complete  2011-10-13 02:09:00+02:00   \n",
       "9116             complete  2011-10-14 21:18:00+02:00   \n",
       "9117             complete  2011-10-13 14:21:00+02:00   \n",
       "9118             complete  2011-10-14 00:09:00+02:00   \n",
       "\n",
       "                       start:timestamp    case:creator  case:variant-index  \\\n",
       "0            2011-01-01 06:37:00+01:00  Fluxicon Disco                   2   \n",
       "1     2011-01-01 09:42:14.062500+01:00  Fluxicon Disco                   2   \n",
       "2            2011-01-01 12:55:00+01:00  Fluxicon Disco                   2   \n",
       "3     2011-01-01 17:53:28.784180+01:00  Fluxicon Disco                   2   \n",
       "4     2011-01-01 21:38:05.507812+01:00  Fluxicon Disco                   2   \n",
       "...                                ...             ...                 ...   \n",
       "9114         2011-10-13 02:02:00+02:00  Fluxicon Disco                   4   \n",
       "9115         2011-10-13 02:09:00+02:00  Fluxicon Disco                   4   \n",
       "9116         2011-10-14 21:18:00+02:00  Fluxicon Disco                   4   \n",
       "9117         2011-10-13 14:21:00+02:00  Fluxicon Disco                   3   \n",
       "9118         2011-10-14 00:09:00+02:00  Fluxicon Disco                   3   \n",
       "\n",
       "     case:variant  case:concept:name  \n",
       "0       Variant 2                  1  \n",
       "1       Variant 2                  1  \n",
       "2       Variant 2                  1  \n",
       "3       Variant 2                  1  \n",
       "4       Variant 2                  1  \n",
       "...           ...                ...  \n",
       "9114    Variant 4               1941  \n",
       "9115    Variant 4               1941  \n",
       "9116    Variant 4               1941  \n",
       "9117    Variant 3               1949  \n",
       "9118    Variant 3               1949  \n",
       "\n",
       "[9119 rows x 11 columns]"
      ]
     },
     "execution_count": 2,
     "metadata": {},
     "output_type": "execute_result"
    }
   ],
   "source": [
    "log_alpha"
   ]
  },
  {
   "cell_type": "code",
   "execution_count": 3,
   "metadata": {},
   "outputs": [],
   "source": [
    "log_df.sort_values(by='time:timestamp', inplace=True)\n",
    "log_df = log_df[log_df['lifecycle:transition'] != 'complete']\n",
    "log_df.index = range(len(log_df))\n",
    "\n",
    "log_alpha.sort_values(by='time:timestamp', inplace = True)\n",
    "log_alpha.index = range(len(log_alpha))"
   ]
  },
  {
   "cell_type": "code",
   "execution_count": 4,
   "metadata": {},
   "outputs": [],
   "source": [
    "import re\n",
    "\n",
    "log_alpha['start:timestamp'] = log_alpha['start:timestamp'].apply(lambda x: re.sub('\\.[0-9]+', '', str(x)))"
   ]
  },
  {
   "cell_type": "code",
   "execution_count": 9,
   "metadata": {},
   "outputs": [
    {
     "name": "stderr",
     "output_type": "stream",
     "text": [
      "C:\\Users\\vinci\\AppData\\Local\\Temp\\ipykernel_6036\\1899388007.py:1: FutureWarning: In a future version of pandas, parsing datetimes with mixed time zones will raise an error unless `utc=True`. Please specify `utc=True` to opt in to the new behaviour and silence this warning. To create a `Series` with mixed offsets and `object` dtype, please use `apply` and `datetime.datetime.strptime`\n",
      "  (log_df['time:timestamp'] - pd.to_datetime(log_alpha['start:timestamp'])).apply(lambda x: x.total_seconds()).abs().mean()\n"
     ]
    },
    {
     "data": {
      "text/plain": [
       "11126.747011733743"
      ]
     },
     "execution_count": 9,
     "metadata": {},
     "output_type": "execute_result"
    }
   ],
   "source": [
    "(log_df['time:timestamp'] - pd.to_datetime(log_alpha['start:timestamp'])).apply(lambda x: x.total_seconds()).abs().mean()"
   ]
  },
  {
   "cell_type": "code",
   "execution_count": 10,
   "metadata": {},
   "outputs": [
    {
     "data": {
      "text/plain": [
       "185.43333333333334"
      ]
     },
     "execution_count": 10,
     "metadata": {},
     "output_type": "execute_result"
    }
   ],
   "source": [
    "11126/60"
   ]
  },
  {
   "cell_type": "code",
   "execution_count": 11,
   "metadata": {},
   "outputs": [
    {
     "data": {
      "text/plain": [
       "3.0833333333333335"
      ]
     },
     "execution_count": 11,
     "metadata": {},
     "output_type": "execute_result"
    }
   ],
   "source": [
    "185/60"
   ]
  },
  {
   "cell_type": "code",
   "execution_count": 12,
   "metadata": {},
   "outputs": [
    {
     "name": "stderr",
     "output_type": "stream",
     "text": [
      "parsing log, completed traces :: 100%|██████████| 608/608 [00:00<00:00, 721.22it/s]\n"
     ]
    }
   ],
   "source": [
    "log_path = 'data/purchasing_example.xes'\n",
    "log_alpha_path = 'results/single/log_alpha_one.csv'\n",
    "\n",
    "log = xes_importer.apply(log_path)\n",
    "log_df = pm4py.convert_to_dataframe(log)\n",
    "\n",
    "log_alpha = pd.read_csv(log_alpha_path)\n",
    "# log = pm4py.filter_event_attribute_values(log, 'lifecycle:transition', ['complete'], level=\"event\", retain=True)\n",
    "\n",
    "log_df.sort_values(by='time:timestamp', inplace=True)\n",
    "log_df = log_df[log_df['lifecycle:transition'] != 'complete']\n",
    "log_df.index = range(len(log_df))\n",
    "\n",
    "log_alpha.sort_values(by='time:timestamp', inplace = True)\n",
    "log_alpha.index = range(len(log_alpha))\n",
    "\n",
    "import re\n",
    "\n",
    "log_alpha['start:timestamp'] = log_alpha['start:timestamp'].apply(lambda x: re.sub('\\.[0-9]+', '', str(x)))"
   ]
  },
  {
   "cell_type": "code",
   "execution_count": 13,
   "metadata": {},
   "outputs": [
    {
     "name": "stderr",
     "output_type": "stream",
     "text": [
      "C:\\Users\\vinci\\AppData\\Local\\Temp\\ipykernel_6036\\1899388007.py:1: FutureWarning: In a future version of pandas, parsing datetimes with mixed time zones will raise an error unless `utc=True`. Please specify `utc=True` to opt in to the new behaviour and silence this warning. To create a `Series` with mixed offsets and `object` dtype, please use `apply` and `datetime.datetime.strptime`\n",
      "  (log_df['time:timestamp'] - pd.to_datetime(log_alpha['start:timestamp'])).apply(lambda x: x.total_seconds()).abs().mean()\n"
     ]
    },
    {
     "data": {
      "text/plain": [
       "13254.907774975327"
      ]
     },
     "execution_count": 13,
     "metadata": {},
     "output_type": "execute_result"
    }
   ],
   "source": [
    "(log_df['time:timestamp'] - pd.to_datetime(log_alpha['start:timestamp'])).apply(lambda x: x.total_seconds()).abs().mean()"
   ]
  },
  {
   "cell_type": "code",
   "execution_count": 15,
   "metadata": {},
   "outputs": [
    {
     "data": {
      "text/plain": [
       "3.6819188263820353"
      ]
     },
     "execution_count": 15,
     "metadata": {},
     "output_type": "execute_result"
    }
   ],
   "source": [
    "13254.907774975327/60/60"
   ]
  },
  {
   "cell_type": "code",
   "execution_count": 16,
   "metadata": {},
   "outputs": [
    {
     "data": {
      "text/plain": [
       "36.0"
      ]
     },
     "execution_count": 16,
     "metadata": {},
     "output_type": "execute_result"
    }
   ],
   "source": [
    "0.6*60"
   ]
  },
  {
   "cell_type": "code",
   "execution_count": 20,
   "metadata": {},
   "outputs": [
    {
     "name": "stderr",
     "output_type": "stream",
     "text": [
      "parsing log, completed traces :: 100%|██████████| 608/608 [00:00<00:00, 859.00it/s]\n"
     ]
    }
   ],
   "source": [
    "log_path = 'data/purchasing_example.xes'\n",
    "log_alpha_path = 'results/alpha_1/log_alpha.csv'\n",
    "\n",
    "log = xes_importer.apply(log_path)\n",
    "log_df = pm4py.convert_to_dataframe(log)\n",
    "\n",
    "log_alpha = pd.read_csv(log_alpha_path)\n",
    "# log = pm4py.filter_event_attribute_values(log, 'lifecycle:transition', ['complete'], level=\"event\", retain=True)\n",
    "\n",
    "log_df.sort_values(by='time:timestamp', inplace=True)\n",
    "log_df = log_df[log_df['lifecycle:transition'] != 'complete']\n",
    "log_df.index = range(len(log_df))\n",
    "\n",
    "log_alpha.sort_values(by='time:timestamp', inplace = True)\n",
    "log_alpha.index = range(len(log_alpha))\n",
    "\n",
    "import re\n",
    "\n",
    "log_alpha['start:timestamp'] = log_alpha['start:timestamp'].apply(lambda x: re.sub('\\.[0-9]+', '', str(x)))"
   ]
  },
  {
   "cell_type": "code",
   "execution_count": 21,
   "metadata": {},
   "outputs": [
    {
     "name": "stderr",
     "output_type": "stream",
     "text": [
      "C:\\Users\\vinci\\AppData\\Local\\Temp\\ipykernel_6036\\1899388007.py:1: FutureWarning: In a future version of pandas, parsing datetimes with mixed time zones will raise an error unless `utc=True`. Please specify `utc=True` to opt in to the new behaviour and silence this warning. To create a `Series` with mixed offsets and `object` dtype, please use `apply` and `datetime.datetime.strptime`\n",
      "  (log_df['time:timestamp'] - pd.to_datetime(log_alpha['start:timestamp'])).apply(lambda x: x.total_seconds()).abs().mean()\n"
     ]
    },
    {
     "data": {
      "text/plain": [
       "36978.001973900646"
      ]
     },
     "execution_count": 21,
     "metadata": {},
     "output_type": "execute_result"
    }
   ],
   "source": [
    "(log_df['time:timestamp'] - pd.to_datetime(log_alpha['start:timestamp'])).apply(lambda x: x.total_seconds()).abs().mean()"
   ]
  },
  {
   "cell_type": "code",
   "execution_count": 22,
   "metadata": {},
   "outputs": [
    {
     "data": {
      "text/plain": [
       "10.271666666666667"
      ]
     },
     "execution_count": 22,
     "metadata": {},
     "output_type": "execute_result"
    }
   ],
   "source": [
    "36978/60/60"
   ]
  }
 ],
 "metadata": {
  "kernelspec": {
   "display_name": "Python 3",
   "language": "python",
   "name": "python3"
  },
  "language_info": {
   "codemirror_mode": {
    "name": "ipython",
    "version": 3
   },
   "file_extension": ".py",
   "mimetype": "text/x-python",
   "name": "python",
   "nbconvert_exporter": "python",
   "pygments_lexer": "ipython3",
   "version": "3.10.11"
  }
 },
 "nbformat": 4,
 "nbformat_minor": 2
}
